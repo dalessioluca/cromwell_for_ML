{
 "cells": [
  {
   "cell_type": "markdown",
   "metadata": {},
   "source": [
    "# VAE IN PYTORCH RUNNING IN CROMWELL CONNECTED TO NEPTUNE"
   ]
  },
  {
   "cell_type": "markdown",
   "metadata": {},
   "source": [
    "In this example I log in neptune:\n",
    "1. images\n",
    "2. model architecture\n",
    "3. model weights\n",
    "4. numerical metrics \n",
    "5. source code"
   ]
  },
  {
   "cell_type": "code",
   "execution_count": 2,
   "metadata": {},
   "outputs": [],
   "source": [
    "%load_ext autoreload\n",
    "%autoreload 2"
   ]
  },
  {
   "cell_type": "code",
   "execution_count": 3,
   "metadata": {},
   "outputs": [],
   "source": [
    "%matplotlib inline\n",
    "import matplotlib.pyplot as plt\n",
    "\n",
    "import torch\n",
    "import numpy\n",
    "import neptune\n",
    "from MODULES.utilities import *\n",
    "from MODULES.vae_model import * \n",
    "from MODULES.utilities_neptune import *\n",
    "\n",
    "#pip install psutil\n",
    "#pip install neptune-client"
   ]
  },
  {
   "cell_type": "markdown",
   "metadata": {},
   "source": [
    "### read the parameters"
   ]
  },
  {
   "cell_type": "code",
   "execution_count": 4,
   "metadata": {},
   "outputs": [
    {
     "name": "stdout",
     "output_type": "stream",
     "text": [
      "{'neptune_project': 'dalessioluca/cromwell', 'architecture': {'__comment': 'parameters specifying the architecture of the model', 'dim_z': 25, 'width_input_image': 28, 'ch_input_image': 1}, 'simulation': {'MAX_EPOCHS': 500, 'TEST_FREQUENCY': 5, 'CHECKPOINT_FREQUENCY': 20, 'BATCH_SIZE': 128}, 'GECO_loss': {'__comment': 'if active=false use ELBO, else use GECO with Log-Likelihood threshold = n_pixels * n_channel * threshold', 'is_active': True, 'factor_balance_range': [0.1, 0.8, 0.9], 'target_mse': [0.75, 1.0], 'fg_std': 0.05}, 'optimizer': {'__comment': 'which optimizer to use', 'type': 'adam', 'base_lr': 0.001, 'betas': [0.9, 0.999], 'base_lr_geco': 0.001, 'betas_geco': [0.9, 0.999], 'weight_decay': 0.0, 'eps': 1e-08, 'scheduler_is_active': True, 'scheduler_type': 'step_LR', 'scheduler_step_size': 500, 'scheduler_gamma': 0.75}}\n"
     ]
    }
   ],
   "source": [
    "params = load_json_as_dict(\"./ML_parameters.json\")\n",
    "print(params)"
   ]
  },
  {
   "cell_type": "markdown",
   "metadata": {},
   "source": [
    "### create the neptune experiment"
   ]
  },
  {
   "cell_type": "code",
   "execution_count": 5,
   "metadata": {},
   "outputs": [
    {
     "name": "stderr",
     "output_type": "stream",
     "text": [
      "NVMLError: NVML Shared Library Not Found - GPU usage metrics may not be reported.\n"
     ]
    },
    {
     "name": "stdout",
     "output_type": "stream",
     "text": [
      "https://ui.neptune.ai/dalessioluca/cromwell/e/CROM-25\n"
     ]
    }
   ],
   "source": [
    "neptune.set_project(params[\"neptune_project\"])\n",
    "\n",
    "exp = neptune.create_experiment(params=flatten_dict(params),\n",
    "                                upload_source_files=[\"./MODULES/vae_model.py\"])"
   ]
  },
  {
   "cell_type": "markdown",
   "metadata": {},
   "source": [
    "### create the dataset and visualize them"
   ]
  },
  {
   "cell_type": "code",
   "execution_count": 18,
   "metadata": {},
   "outputs": [],
   "source": [
    "BATCH_SIZE = params[\"simulation\"][\"BATCH_SIZE\"]\n",
    "\n",
    "train_loader = SpecialDataSet(img=load_obj(\"data_train.pt\"),\n",
    "                              store_in_cuda=torch.cuda.is_available(),\n",
    "                              shuffle=True,\n",
    "                              drop_last=True,\n",
    "                              batch_size=BATCH_SIZE)\n",
    "\n",
    "test_loader = SpecialDataSet(img=load_obj(\"data_test.pt\"),\n",
    "                             store_in_cuda=torch.cuda.is_available(),\n",
    "                             shuffle=False,\n",
    "                             drop_last=True,\n",
    "                             batch_size=BATCH_SIZE)"
   ]
  },
  {
   "cell_type": "code",
   "execution_count": 19,
   "metadata": {},
   "outputs": [
    {
     "name": "stdout",
     "output_type": "stream",
     "text": [
      "Dataset lenght: 500\n",
      "img.shape torch.Size([500, 1, 28, 28])\n",
      "img.dtype torch.float32\n",
      "img.device cpu\n",
      "MINIBATCH: img.shapes labels.shape, index.shape -> torch.Size([8, 1, 28, 28]) torch.Size([8]) torch.Size([8])\n",
      "MINIBATCH: min and max of minibatch tensor(0.) tensor(1.)\n"
     ]
    }
   ],
   "source": [
    "train_batch_example = train_loader.check_batch()\n",
    "exp.log_image(\"train_batch_example\", train_batch_example)\n",
    "#train_batch_example"
   ]
  },
  {
   "cell_type": "code",
   "execution_count": 20,
   "metadata": {},
   "outputs": [
    {
     "name": "stdout",
     "output_type": "stream",
     "text": [
      "Dataset lenght: 100\n",
      "img.shape torch.Size([100, 1, 28, 28])\n",
      "img.dtype torch.float32\n",
      "img.device cpu\n",
      "MINIBATCH: img.shapes labels.shape, index.shape -> torch.Size([8, 1, 28, 28]) torch.Size([8]) torch.Size([8])\n",
      "MINIBATCH: min and max of minibatch tensor(0.) tensor(1.)\n"
     ]
    }
   ],
   "source": [
    "test_batch_example = test_loader.check_batch()\n",
    "exp.log_image(\"test_batch_example\", test_batch_example)\n",
    "#test_batch_example"
   ]
  },
  {
   "cell_type": "code",
   "execution_count": 21,
   "metadata": {},
   "outputs": [],
   "source": [
    "reference_imgs, labels, index = test_loader.load(8)\n",
    "tmp = show_batch(reference_imgs, n_padding=4, figsize=(12,12), title='reference imgs')\n",
    "exp.log_image(\"reference_imgs\", tmp)\n",
    "#tmp"
   ]
  },
  {
   "cell_type": "markdown",
   "metadata": {},
   "source": [
    "### Initialize model and optimizer"
   ]
  },
  {
   "cell_type": "code",
   "execution_count": 22,
   "metadata": {},
   "outputs": [],
   "source": [
    "vae = SimpleVae(params)\n",
    "log_model_summary(experiment=exp, model=vae)\n",
    "optimizer = instantiate_optimizer(model=vae, dict_params_optimizer=params[\"optimizer\"])\n",
    "\n",
    "# instantiate the scheduler if necessary    \n",
    "if params[\"optimizer\"][\"scheduler_is_active\"]:\n",
    "    scheduler = instantiate_scheduler(optimizer=optimizer, dict_params_scheduler=params[\"optimizer\"])"
   ]
  },
  {
   "cell_type": "markdown",
   "metadata": {},
   "source": [
    "### The train loop"
   ]
  },
  {
   "cell_type": "code",
   "execution_count": 23,
   "metadata": {},
   "outputs": [
    {
     "name": "stdout",
     "output_type": "stream",
     "text": [
      "i =   0 train_loss=47.42974\n",
      "i =   1 train_loss=45.90522\n",
      "i =   2 train_loss=42.23544\n",
      "Train [epoch    0] loss=45.190, mse=56.397, kl_tot=0.094, geco_bal=0.801\n",
      "i =   0 train_loss=45.48071\n",
      "Test  [epoch    0] loss=45.481, mse=56.456, kl_tot=0.747, geco_bal=0.803\n",
      "Train [epoch    1] loss=41.499, mse=51.503, kl_tot=0.479, geco_bal=0.804\n",
      "Train [epoch    2] loss=35.842, mse=44.219, kl_tot=0.837, geco_bal=0.807\n",
      "Train [epoch    3] loss=30.854, mse=37.678, kl_tot=1.795, geco_bal=0.810\n",
      "Train [epoch    4] loss=29.521, mse=35.475, kl_tot=3.704, geco_bal=0.813\n",
      "Train [epoch    5] loss=28.664, mse=34.247, kl_tot=4.005, geco_bal=0.815\n",
      "Test  [epoch    5] loss=29.329, mse=34.934, kl_tot=4.279, geco_bal=0.817\n",
      "Train [epoch    6] loss=27.705, mse=33.045, kl_tot=3.707, geco_bal=0.818\n",
      "Train [epoch    7] loss=25.490, mse=30.368, kl_tot=3.175, geco_bal=0.821\n",
      "Train [epoch    8] loss=23.885, mse=28.383, kl_tot=2.943, geco_bal=0.823\n",
      "Train [epoch    9] loss=22.233, mse=26.301, kl_tot=2.963, geco_bal=0.826\n",
      "Train [epoch   10] loss=20.753, mse=24.539, kl_tot=2.524, geco_bal=0.828\n",
      "Test  [epoch   10] loss=21.046, mse=24.859, kl_tot=2.477, geco_bal=0.830\n"
     ]
    },
    {
     "ename": "KeyboardInterrupt",
     "evalue": "",
     "output_type": "error",
     "traceback": [
      "\u001b[0;31m---------------------------------------------------------------------------\u001b[0m",
      "\u001b[0;31mKeyboardInterrupt\u001b[0m                         Traceback (most recent call last)",
      "\u001b[0;32m<ipython-input-23-9a3d7f565146>\u001b[0m in \u001b[0;36m<module>\u001b[0;34m\u001b[0m\n\u001b[1;32m      8\u001b[0m     \u001b[0;32mwith\u001b[0m \u001b[0mtorch\u001b[0m\u001b[0;34m.\u001b[0m\u001b[0menable_grad\u001b[0m\u001b[0;34m(\u001b[0m\u001b[0;34m)\u001b[0m\u001b[0;34m:\u001b[0m\u001b[0;34m\u001b[0m\u001b[0;34m\u001b[0m\u001b[0m\n\u001b[1;32m      9\u001b[0m         \u001b[0mvae\u001b[0m\u001b[0;34m.\u001b[0m\u001b[0mtrain\u001b[0m\u001b[0;34m(\u001b[0m\u001b[0;34m)\u001b[0m\u001b[0;34m\u001b[0m\u001b[0;34m\u001b[0m\u001b[0m\n\u001b[0;32m---> 10\u001b[0;31m         train_metrics = process_one_epoch(model=vae, \n\u001b[0m\u001b[1;32m     11\u001b[0m                                           \u001b[0mdataloader\u001b[0m\u001b[0;34m=\u001b[0m\u001b[0mtrain_loader\u001b[0m\u001b[0;34m,\u001b[0m\u001b[0;34m\u001b[0m\u001b[0;34m\u001b[0m\u001b[0m\n\u001b[1;32m     12\u001b[0m                                           \u001b[0moptimizer\u001b[0m\u001b[0;34m=\u001b[0m\u001b[0moptimizer\u001b[0m\u001b[0;34m,\u001b[0m\u001b[0;34m\u001b[0m\u001b[0;34m\u001b[0m\u001b[0m\n",
      "\u001b[0;32m~/cromwell_for_ML/MODULES/utilities.py\u001b[0m in \u001b[0;36mprocess_one_epoch\u001b[0;34m(model, dataloader, optimizer, weight_clipper, verbose)\u001b[0m\n\u001b[1;32m    242\u001b[0m         \u001b[0;32mif\u001b[0m \u001b[0mmodel\u001b[0m\u001b[0;34m.\u001b[0m\u001b[0mtraining\u001b[0m\u001b[0;34m:\u001b[0m\u001b[0;34m\u001b[0m\u001b[0;34m\u001b[0m\u001b[0m\n\u001b[1;32m    243\u001b[0m             \u001b[0moptimizer\u001b[0m\u001b[0;34m.\u001b[0m\u001b[0mzero_grad\u001b[0m\u001b[0;34m(\u001b[0m\u001b[0;34m)\u001b[0m\u001b[0;34m\u001b[0m\u001b[0;34m\u001b[0m\u001b[0m\n\u001b[0;32m--> 244\u001b[0;31m             \u001b[0mmetrics\u001b[0m\u001b[0;34m.\u001b[0m\u001b[0mloss\u001b[0m\u001b[0;34m.\u001b[0m\u001b[0mbackward\u001b[0m\u001b[0;34m(\u001b[0m\u001b[0;34m)\u001b[0m  \u001b[0;31m# do back_prop and compute all the gradients\u001b[0m\u001b[0;34m\u001b[0m\u001b[0;34m\u001b[0m\u001b[0m\n\u001b[0m\u001b[1;32m    245\u001b[0m             \u001b[0moptimizer\u001b[0m\u001b[0;34m.\u001b[0m\u001b[0mstep\u001b[0m\u001b[0;34m(\u001b[0m\u001b[0;34m)\u001b[0m  \u001b[0;31m# update the parameters\u001b[0m\u001b[0;34m\u001b[0m\u001b[0;34m\u001b[0m\u001b[0m\n\u001b[1;32m    246\u001b[0m \u001b[0;34m\u001b[0m\u001b[0m\n",
      "\u001b[0;32m~/anaconda3/envs/pyro/lib/python3.8/site-packages/torch/tensor.py\u001b[0m in \u001b[0;36mbackward\u001b[0;34m(self, gradient, retain_graph, create_graph)\u001b[0m\n\u001b[1;32m    193\u001b[0m                 \u001b[0mproducts\u001b[0m\u001b[0;34m.\u001b[0m \u001b[0mDefaults\u001b[0m \u001b[0mto\u001b[0m\u001b[0;31m \u001b[0m\u001b[0;31m`\u001b[0m\u001b[0;31m`\u001b[0m\u001b[0;32mFalse\u001b[0m\u001b[0;31m`\u001b[0m\u001b[0;31m`\u001b[0m\u001b[0;34m.\u001b[0m\u001b[0;34m\u001b[0m\u001b[0;34m\u001b[0m\u001b[0m\n\u001b[1;32m    194\u001b[0m         \"\"\"\n\u001b[0;32m--> 195\u001b[0;31m         \u001b[0mtorch\u001b[0m\u001b[0;34m.\u001b[0m\u001b[0mautograd\u001b[0m\u001b[0;34m.\u001b[0m\u001b[0mbackward\u001b[0m\u001b[0;34m(\u001b[0m\u001b[0mself\u001b[0m\u001b[0;34m,\u001b[0m \u001b[0mgradient\u001b[0m\u001b[0;34m,\u001b[0m \u001b[0mretain_graph\u001b[0m\u001b[0;34m,\u001b[0m \u001b[0mcreate_graph\u001b[0m\u001b[0;34m)\u001b[0m\u001b[0;34m\u001b[0m\u001b[0;34m\u001b[0m\u001b[0m\n\u001b[0m\u001b[1;32m    196\u001b[0m \u001b[0;34m\u001b[0m\u001b[0m\n\u001b[1;32m    197\u001b[0m     \u001b[0;32mdef\u001b[0m \u001b[0mregister_hook\u001b[0m\u001b[0;34m(\u001b[0m\u001b[0mself\u001b[0m\u001b[0;34m,\u001b[0m \u001b[0mhook\u001b[0m\u001b[0;34m)\u001b[0m\u001b[0;34m:\u001b[0m\u001b[0;34m\u001b[0m\u001b[0;34m\u001b[0m\u001b[0m\n",
      "\u001b[0;32m~/anaconda3/envs/pyro/lib/python3.8/site-packages/torch/autograd/__init__.py\u001b[0m in \u001b[0;36mbackward\u001b[0;34m(tensors, grad_tensors, retain_graph, create_graph, grad_variables)\u001b[0m\n\u001b[1;32m     95\u001b[0m         \u001b[0mretain_graph\u001b[0m \u001b[0;34m=\u001b[0m \u001b[0mcreate_graph\u001b[0m\u001b[0;34m\u001b[0m\u001b[0;34m\u001b[0m\u001b[0m\n\u001b[1;32m     96\u001b[0m \u001b[0;34m\u001b[0m\u001b[0m\n\u001b[0;32m---> 97\u001b[0;31m     Variable._execution_engine.run_backward(\n\u001b[0m\u001b[1;32m     98\u001b[0m         \u001b[0mtensors\u001b[0m\u001b[0;34m,\u001b[0m \u001b[0mgrad_tensors\u001b[0m\u001b[0;34m,\u001b[0m \u001b[0mretain_graph\u001b[0m\u001b[0;34m,\u001b[0m \u001b[0mcreate_graph\u001b[0m\u001b[0;34m,\u001b[0m\u001b[0;34m\u001b[0m\u001b[0;34m\u001b[0m\u001b[0m\n\u001b[1;32m     99\u001b[0m         allow_unreachable=True)  # allow_unreachable flag\n",
      "\u001b[0;31mKeyboardInterrupt\u001b[0m: "
     ]
    }
   ],
   "source": [
    "TEST_FREQUENCY = params[\"simulation\"][\"TEST_FREQUENCY\"]\n",
    "CHECKPOINT_FREQUENCY = params[\"simulation\"][\"CHECKPOINT_FREQUENCY\"]\n",
    "NUM_EPOCHS = params[\"simulation\"][\"MAX_EPOCHS\"]\n",
    "min_test_loss = 999999\n",
    "\n",
    "for epoch in range(NUM_EPOCHS):\n",
    "        \n",
    "    with torch.enable_grad():\n",
    "        vae.train()\n",
    "        train_metrics = process_one_epoch(model=vae, \n",
    "                                          dataloader=train_loader, \n",
    "                                          optimizer=optimizer, \n",
    "                                          verbose=(epoch==0),\n",
    "                                          weight_clipper=None)\n",
    "             \n",
    "        print(\"Train \"+train_metrics.pretty_print(epoch))\n",
    "        log_metrics(exp, train_metrics, prefix=\"train_\")\n",
    "    \n",
    "    \n",
    "    if(epoch % TEST_FREQUENCY == 0):\n",
    "        with torch.no_grad():\n",
    "            vae.eval()\n",
    "            test_metrics = process_one_epoch(model=vae, \n",
    "                                             dataloader=test_loader, \n",
    "                                             optimizer=optimizer, \n",
    "                                             verbose=(epoch==0), \n",
    "                                             weight_clipper=None)\n",
    "            \n",
    "            print(\"Test  \"+test_metrics.pretty_print(epoch))\n",
    "            log_metrics(exp, test_metrics, prefix=\"test_\")\n",
    "        \n",
    "            min_test_loss = min(min_test_loss, test_metrics.loss)\n",
    "            \n",
    "            imgs_rec = vae.forward(imgs_in=reference_imgs).imgs\n",
    "            tmp = show_batch(imgs_rec, n_padding=4, figsize=(12,12), title='epoch= {0:6d}'.format(epoch))\n",
    "            exp.log_image(\"imgs_rec\", tmp)\n",
    "                        \n",
    "            if((test_metrics.loss == min_test_loss) or ((epoch % CHECKPOINT_FREQUENCY) == 0)): \n",
    "                ckpt = create_ckpt(model=vae, \n",
    "                                   optimizer=optimizer, \n",
    "                                   epoch=epoch, \n",
    "                                   hyperparams_dict=params)\n",
    "                save_obj(ckpt, \"last_ckpt.pt\")  # save locally to file \n",
    "                log_last_ckpt(exp, \"last_ckpt.pt\")  # log file into neptune\n"
   ]
  },
  {
   "cell_type": "markdown",
   "metadata": {},
   "source": [
    "### sample from the generator"
   ]
  },
  {
   "cell_type": "code",
   "execution_count": 24,
   "metadata": {},
   "outputs": [
    {
     "data": {
      "image/png": "[encoded data removed]",
      "text/plain": [
       "<Figure size 864x864 with 1 Axes>"
      ]
     },
     "execution_count": 24,
     "metadata": {},
     "output_type": "execute_result"
    }
   ],
   "source": [
    "vae.eval()\n",
    "sample = vae.generate(imgs_in=reference_imgs)\n",
    "tmp = show_batch(sample, n_padding=4, figsize=(12,12), title='sample from generator')\n",
    "exp.log_image(\"sample\", tmp)\n",
    "tmp"
   ]
  },
  {
   "cell_type": "code",
   "execution_count": 25,
   "metadata": {},
   "outputs": [],
   "source": [
    "exp.stop()"
   ]
  },
  {
   "cell_type": "code",
   "execution_count": null,
   "metadata": {},
   "outputs": [],
   "source": []
  }
 ],
 "metadata": {
  "kernelspec": {
   "display_name": "Python 3",
   "language": "python",
   "name": "python3"
  },
  "language_info": {
   "codemirror_mode": {
    "name": "ipython",
    "version": 3
   },
   "file_extension": ".py",
   "mimetype": "text/x-python",
   "name": "python",
   "nbconvert_exporter": "python",
   "pygments_lexer": "ipython3",
   "version": "3.8.2"
  },
  "neptune": {
   "notebookId": "0dd08974-9074-4e82-8b9d-31e595cbea7f"
  }
 },
 "nbformat": 4,
 "nbformat_minor": 4
}
