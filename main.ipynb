{
 "cells": [
  {
   "cell_type": "markdown",
   "metadata": {},
   "source": [
    "# VAE IN PYTORCH RUNNING IN CROMWELL CONNECTED TO NEPTUNE"
   ]
  },
  {
   "cell_type": "markdown",
   "metadata": {},
   "source": [
    "In this example I log in neptune:\n",
    "1. images\n",
    "2. model architecture\n",
    "3. model weights\n",
    "4. numerical metrics \n",
    "5. source code"
   ]
  },
  {
   "cell_type": "code",
   "execution_count": 1,
   "metadata": {},
   "outputs": [],
   "source": [
    "%load_ext autoreload\n",
    "%autoreload 2"
   ]
  },
  {
   "cell_type": "code",
   "execution_count": 2,
   "metadata": {},
   "outputs": [],
   "source": [
    "%matplotlib inline\n",
    "import matplotlib.pyplot as plt\n",
    "\n",
    "import torch\n",
    "import numpy\n",
    "import neptune\n",
    "from MODULES.utilities import *\n",
    "from MODULES.vae_model import * \n",
    "from MODULES.utilities_neptune import *\n",
    "\n",
    "#pip install psutil\n",
    "#pip install neptune-client"
   ]
  },
  {
   "cell_type": "markdown",
   "metadata": {},
   "source": [
    "### read the parameters"
   ]
  },
  {
   "cell_type": "code",
   "execution_count": 3,
   "metadata": {},
   "outputs": [
    {
     "name": "stdout",
     "output_type": "stream",
     "text": [
      "{'neptune_project': 'dalessioluca/cromwell', 'architecture': {'__comment': 'parameters specifying the architecture of the model', 'dim_z': 25, 'width_input_image': 28, 'ch_input_image': 1}, 'simulation': {'MAX_EPOCHS': 500, 'TEST_FREQUENCY': 5, 'CHECKPOINT_FREQUENCY': 20, 'BATCH_SIZE': 64}, 'GECO_loss': {'__comment': 'if active=false use ELBO, else use GECO with Log-Likelihood threshold = n_pixels * n_channel * threshold', 'is_active': True, 'factor_balance_range': [0.1, 0.8, 0.9], 'target_mse': [0.75, 1.0], 'fg_std': 0.05}, 'optimizer': {'__comment': 'which optimizer to use', 'type': 'adam', 'base_lr': 0.001, 'betas': [0.9, 0.999], 'base_lr_geco': 0.001, 'betas_geco': [0.9, 0.999], 'weight_decay': 0.0, 'eps': 1e-08, 'scheduler_is_active': True, 'scheduler_type': 'step_LR', 'scheduler_step_size': 500, 'scheduler_gamma': 0.75}}\n"
     ]
    }
   ],
   "source": [
    "params = load_json_as_dict(\"./ML_parameters.json\")\n",
    "print(params)"
   ]
  },
  {
   "cell_type": "markdown",
   "metadata": {},
   "source": [
    "### create the neptune experiment"
   ]
  },
  {
   "cell_type": "code",
   "execution_count": null,
   "metadata": {},
   "outputs": [],
   "source": [
    "neptune.set_project(params[\"neptune_project\"])\n",
    "exp = neptune.create_experiment(params=flatten_dict(params),\n",
    "                                upload_source_files=[\"./MODULES/vae_model.py\"])"
   ]
  },
  {
   "cell_type": "markdown",
   "metadata": {},
   "source": [
    "### create the dataset and visualize them"
   ]
  },
  {
   "cell_type": "code",
   "execution_count": 44,
   "metadata": {},
   "outputs": [],
   "source": [
    "BATCH_SIZE = params[\"simulation\"][\"BATCH_SIZE\"]\n",
    "\n",
    "train_loader = SpecialDataSet(img=load_obj(\"data_test.pt\"),\n",
    "                              store_in_cuda=torch.cuda.is_available(),\n",
    "                              shuffle=True,\n",
    "                              drop_last=True,\n",
    "                              batch_size=BATCH_SIZE)\n",
    "\n",
    "test_loader = SpecialDataSet(img=load_obj(\"data_test.pt\"),\n",
    "                             store_in_cuda=torch.cuda.is_available(),\n",
    "                             shuffle=False,\n",
    "                             drop_last=True,\n",
    "                             batch_size=BATCH_SIZE)"
   ]
  },
  {
   "cell_type": "code",
   "execution_count": null,
   "metadata": {},
   "outputs": [],
   "source": [
    "train_batch_example = train_loader.check_batch()\n",
    "exp.log_image(\"train_batch_example\", train_batch_example)\n",
    "#train_batch_example"
   ]
  },
  {
   "cell_type": "code",
   "execution_count": null,
   "metadata": {},
   "outputs": [],
   "source": [
    "test_batch_example = test_loader.check_batch()\n",
    "exp.log_image(\"test_batch_example\", test_batch_example)\n",
    "#test_batch_example"
   ]
  },
  {
   "cell_type": "code",
   "execution_count": null,
   "metadata": {},
   "outputs": [],
   "source": [
    "reference_imgs, labels, index = test_loader.load(8)\n",
    "tmp = show_batch(reference_imgs, n_padding=4, figsize=(12,12), title='reference imgs')\n",
    "exp.log_image(\"reference_imgs\", tmp)\n",
    "#tmp"
   ]
  },
  {
   "cell_type": "markdown",
   "metadata": {},
   "source": [
    "### Initialize model and optimizer"
   ]
  },
  {
   "cell_type": "code",
   "execution_count": null,
   "metadata": {},
   "outputs": [],
   "source": [
    "vae = SimpleVae(params)\n",
    "log_model_summary(experiment=exp, model=vae)\n",
    "optimizer = instantiate_optimizer(model=vae, dict_params_optimizer=params[\"optimizer\"])\n",
    "\n",
    "# instantiate the scheduler if necessary    \n",
    "if params[\"optimizer\"][\"scheduler_is_active\"]:\n",
    "    scheduler = instantiate_scheduler(optimizer=optimizer, dict_params_scheduler=params[\"optimizer\"])"
   ]
  },
  {
   "cell_type": "markdown",
   "metadata": {},
   "source": [
    "### The train loop"
   ]
  },
  {
   "cell_type": "code",
   "execution_count": null,
   "metadata": {},
   "outputs": [],
   "source": [
    "TEST_FREQUENCY = params[\"simulation\"][\"TEST_FREQUENCY\"]\n",
    "CHECKPOINT_FREQUENCY = params[\"simulation\"][\"CHECKPOINT_FREQUENCY\"]\n",
    "NUM_EPOCHS = params[\"simulation\"][\"MAX_EPOCHS\"]\n",
    "min_test_loss = 999999\n",
    "\n",
    "for epoch in range(NUM_EPOCHS):\n",
    "        \n",
    "    with torch.enable_grad():\n",
    "        vae.train()\n",
    "        train_metrics = process_one_epoch(model=vae, \n",
    "                                          dataloader=train_loader, \n",
    "                                          optimizer=optimizer, \n",
    "                                          verbose=(epoch==0),\n",
    "                                          weight_clipper=None)\n",
    "             \n",
    "        print(\"Train \"+train_metrics.pretty_print(epoch))\n",
    "        log_metrics(exp, train_metrics, prefix=\"train_\")\n",
    "    \n",
    "    \n",
    "    if(epoch % TEST_FREQUENCY == 0):\n",
    "        with torch.no_grad():\n",
    "            vae.eval()\n",
    "            test_metrics = process_one_epoch(model=vae, \n",
    "                                             dataloader=test_loader, \n",
    "                                             optimizer=optimizer, \n",
    "                                             verbose=(epoch==0), \n",
    "                                             weight_clipper=None)\n",
    "            \n",
    "            print(\"Test  \"+test_metrics.pretty_print(epoch))\n",
    "            log_metrics(exp, test_metrics, prefix=\"test_\")\n",
    "        \n",
    "            min_test_loss = min(min_test_loss, test_metrics.loss)\n",
    "            \n",
    "            imgs_rec = vae.forward(imgs_in=reference_imgs).imgs\n",
    "            tmp = show_batch(imgs_rec, n_padding=4, figsize=(12,12), title='epoch= {0:6d}'.format(epoch))\n",
    "            exp.log_image(\"imgs_rec\", tmp)\n",
    "                        \n",
    "            if((test_metrics.loss == min_test_loss) or ((epoch % CHECKPOINT_FREQUENCY) == 0)): \n",
    "                ckpt = create_ckpt(model=vae, \n",
    "                                   optimizer=optimizer, \n",
    "                                   epoch=epoch, \n",
    "                                   hyperparams_dict=params)\n",
    "                save_obj(ckpt, \"last_ckpt.pt\")  # save locally to file \n",
    "                log_last_ckpt(exp, \"last_ckpt.pt\")  # log file into neptune\n"
   ]
  },
  {
   "cell_type": "markdown",
   "metadata": {},
   "source": [
    "### sample from the generator"
   ]
  },
  {
   "cell_type": "code",
   "execution_count": null,
   "metadata": {},
   "outputs": [],
   "source": [
    "vae.eval()\n",
    "sample = vae.generate(imgs_in=reference_imgs)\n",
    "tmp = show_batch(sample, n_padding=4, figsize=(12,12), title='sample from generator')\n",
    "exp.log_image(\"sample\", tmp)\n",
    "tmp"
   ]
  },
  {
   "cell_type": "code",
   "execution_count": null,
   "metadata": {},
   "outputs": [],
   "source": [
    "exp.stop()"
   ]
  },
  {
   "cell_type": "code",
   "execution_count": null,
   "metadata": {},
   "outputs": [],
   "source": []
  }
 ],
 "metadata": {
  "kernelspec": {
   "display_name": "Python 3",
   "language": "python",
   "name": "python3"
  },
  "language_info": {
   "codemirror_mode": {
    "name": "ipython",
    "version": 3
   },
   "file_extension": ".py",
   "mimetype": "text/x-python",
   "name": "python",
   "nbconvert_exporter": "python",
   "pygments_lexer": "ipython3",
   "version": "3.7.7"
  },
  "neptune": {
   "notebookId": "0dd08974-9074-4e82-8b9d-31e595cbea7f"
  }
 },
 "nbformat": 4,
 "nbformat_minor": 4
}
