{
 "cells": [
  {
   "cell_type": "code",
   "execution_count": null,
   "id": "catholic-animation",
   "metadata": {},
   "outputs": [],
   "source": [
    "import neptune.new as neptune\n",
    "from neptune.new.types import File\n",
    "import pandas as pd\n",
    "import matplotlib.pyplot as plt\n",
    "import json\n",
    "\n",
    "def log_dictionary(a: dict, experiment: neptune.run.Run, prefix: str):\n",
    "    for key, value in a.items():\n",
    "        experiment[prefix+\"/\"+key].log(value)"
   ]
  },
  {
   "cell_type": "markdown",
   "id": "behavioral-surgeon",
   "metadata": {},
   "source": [
    "# Initialize the experiment"
   ]
  },
  {
   "cell_type": "code",
   "execution_count": null,
   "id": "moderate-measure",
   "metadata": {},
   "outputs": [],
   "source": [
    "exp = neptune.init(project='dalessioluca/gcnv')"
   ]
  },
  {
   "cell_type": "code",
   "execution_count": null,
   "id": "generic-princess",
   "metadata": {},
   "outputs": [],
   "source": [
    "exp[\"description\"] = \"I am logging some text\""
   ]
  },
  {
   "cell_type": "markdown",
   "id": "nominated-brick",
   "metadata": {},
   "source": [
    "### log some configuration parameters"
   ]
  },
  {
   "cell_type": "code",
   "execution_count": null,
   "id": "solved-little",
   "metadata": {},
   "outputs": [],
   "source": [
    "config_files = [\"calling_config.json\", \"denoising_config.json\",  \"gcnvkernel_version.json\"]\n",
    "for config in config_files:\n",
    "    with open(\"./data1/\"+config, 'rb') as f:\n",
    "        log_dictionary(json.load(f), experiment=exp, prefix='config')"
   ]
  },
  {
   "cell_type": "markdown",
   "id": "radical-dining",
   "metadata": {},
   "source": [
    "### log the posterior (raw data and images)"
   ]
  },
  {
   "cell_type": "code",
   "execution_count": null,
   "id": "seeing-brain",
   "metadata": {},
   "outputs": [],
   "source": [
    "posterior_file = './data1/log_q_tau_tk.tsv'\n",
    "df = pd.read_csv(posterior_file, sep='\\t', header=2, nrows=100)\n",
    "exp['csv/log_q_tau_tk'] = neptune.types.File.as_html(df)\n",
    "\n",
    "figure, ax = plt.subplots(ncols=3, figsize=(15, 5))\n",
    "df.plot(y=['VALUE_0', 'VALUE_1'], ax=ax[0])\n",
    "df.plot(y='VALUE_0', ax=ax[1])\n",
    "df.plot(y='VALUE_1', ax=ax[2])\n",
    "\n",
    "exp['static_image'] = neptune.types.File.as_image(figure)\n",
    "exp['interactive_img'] = neptune.types.File.as_html(figure)"
   ]
  },
  {
   "cell_type": "markdown",
   "id": "attractive-oxide",
   "metadata": {},
   "source": [
    "### log a series of variables"
   ]
  },
  {
   "cell_type": "code",
   "execution_count": null,
   "id": "foster-beatles",
   "metadata": {},
   "outputs": [],
   "source": [
    "import re\n",
    "\n",
    "log_file = \"GermlineCNVCallerCohortMode-0.log\"\n",
    "\n",
    "with open(\"./data1/\"+log_file, 'r') as f:\n",
    "    for line in f:\n",
    "        match = re.search(r'(ELBO:)(\\s*.[0-9.]*)', line)        \n",
    "        if match:\n",
    "            try:\n",
    "                val = float(match.group(2))\n",
    "                #print(val)\n",
    "                exp[\"ELBO\"].log(val)\n",
    "            except:\n",
    "                pass"
   ]
  },
  {
   "cell_type": "code",
   "execution_count": null,
   "id": "formed-memorabilia",
   "metadata": {},
   "outputs": [],
   "source": [
    "exp.stop()"
   ]
  }
 ],
 "metadata": {
  "kernelspec": {
   "display_name": "pyro",
   "language": "python",
   "name": "pyro"
  },
  "language_info": {
   "codemirror_mode": {
    "name": "ipython",
    "version": 3
   },
   "file_extension": ".py",
   "mimetype": "text/x-python",
   "name": "python",
   "nbconvert_exporter": "python",
   "pygments_lexer": "ipython3",
   "version": "3.8.8"
  }
 },
 "nbformat": 4,
 "nbformat_minor": 5
}
