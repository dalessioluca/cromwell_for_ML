{
 "cells": [
  {
   "cell_type": "markdown",
   "metadata": {},
   "source": [
    "### MINIMAL EXAMPLE OF JUPYTER NOTEBOOK WHICH CAN BE RUN WITH CROMWELL"
   ]
  },
  {
   "cell_type": "markdown",
   "metadata": {},
   "source": [
    "### IMPORT NECESSARY MODULES"
   ]
  },
  {
   "cell_type": "code",
   "execution_count": 2,
   "metadata": {},
   "outputs": [],
   "source": [
    "%load_ext autoreload\n",
    "%autoreload 2"
   ]
  },
  {
   "cell_type": "code",
   "execution_count": 23,
   "metadata": {},
   "outputs": [],
   "source": [
    "from IPython.display import Image, display, HTML, IFrame\n",
    "from pathlib import Path\n",
    "from glob import glob"
   ]
  },
  {
   "cell_type": "code",
   "execution_count": 24,
   "metadata": {},
   "outputs": [],
   "source": [
    "dir1 = \"/Users/ldalessi/cromwell_for_ML/RESULTS/\"\n",
    "dir2 = \"/Users/ldalessi/cromwell_for_ML/RESULTS2/\""
   ]
  },
  {
   "cell_type": "code",
   "execution_count": 42,
   "metadata": {},
   "outputs": [],
   "source": [
    "files1 = glob(dir1+\"*.png\")\n",
    "files2 = glob(dir2+\"*.png\") # grab only files name not absolute path\n",
    "s1 = set(files1)\n",
    "s2 = set(files2)\n",
    "common = s1 & s2"
   ]
  },
  {
   "cell_type": "code",
   "execution_count": 43,
   "metadata": {},
   "outputs": [
    {
     "name": "stdout",
     "output_type": "stream",
     "text": [
      "set()\n"
     ]
    }
   ],
   "source": [
    "print(common)"
   ]
  },
  {
   "cell_type": "code",
   "execution_count": 41,
   "metadata": {},
   "outputs": [
    {
     "name": "stdout",
     "output_type": "stream",
     "text": [
      "{'/Users/ldalessi/cromwell_for_ML/RESULTS/trial_v1_train.png', '/Users/ldalessi/cromwell_for_ML/RESULTS/trial_v1_reference.png', '/Users/ldalessi/cromwell_for_ML/RESULTS/trial_v1_0005_rec.png', '/Users/ldalessi/cromwell_for_ML/RESULTS/trial_v1_reconstruction.png', '/Users/ldalessi/cromwell_for_ML/RESULTS/trial_v1_0010_rec.png', '/Users/ldalessi/cromwell_for_ML/RESULTS/trial_v1_kl_trajectory.png', '/Users/ldalessi/cromwell_for_ML/RESULTS/trial_v1_0000_rec.png'}\n",
      "{'/Users/ldalessi/cromwell_for_ML/RESULTS2/trial_v1_train.png', '/Users/ldalessi/cromwell_for_ML/RESULTS2/trial_v1_kl_trajectory.png', '/Users/ldalessi/cromwell_for_ML/RESULTS2/trial_v1_reference.png', '/Users/ldalessi/cromwell_for_ML/RESULTS2/trial_v1_0005_rec.png', '/Users/ldalessi/cromwell_for_ML/RESULTS2/trial_v1_reconstruction.png', '/Users/ldalessi/cromwell_for_ML/RESULTS2/trial_v1_0010_rec.png', '/Users/ldalessi/cromwell_for_ML/RESULTS2/trial_v1_0000_rec.png'}\n"
     ]
    }
   ],
   "source": [
    "print(set(files1))\n",
    "print(set(files2))\n",
    "\n",
    "s & t"
   ]
  },
  {
   "cell_type": "code",
   "execution_count": 40,
   "metadata": {},
   "outputs": [
    {
     "name": "stdout",
     "output_type": "stream",
     "text": [
      "set()\n"
     ]
    }
   ],
   "source": [
    "common_files = \n",
    ".intersection(set(files2))\n",
    "print(common_files)\n",
    "\n",
    "#s.symmetric_difference(t)\n"
   ]
  },
  {
   "cell_type": "code",
   "execution_count": 21,
   "metadata": {},
   "outputs": [
    {
     "name": "stdout",
     "output_type": "stream",
     "text": [
      "/bin/sh: -c: line 0: syntax error near unexpected token `('\r\n",
      "/bin/sh: -c: line 0: ` ls Path(dir1)'\r\n"
     ]
    }
   ],
   "source": [
    "! ls Path(dir1)"
   ]
  },
  {
   "cell_type": "code",
   "execution_count": 9,
   "metadata": {},
   "outputs": [
    {
     "name": "stdout",
     "output_type": "stream",
     "text": [
      "input_params.json           trial_v1_history_0.pkl\r\n",
      "trial_v1.log                trial_v1_history_10.pkl\r\n",
      "trial_v1_0000_rec.png       trial_v1_history_5.pkl\r\n",
      "trial_v1_0005_rec.png       trial_v1_kl_trajectory.png\r\n",
      "trial_v1_0010_rec.png       trial_v1_movie_rec.gif\r\n",
      "trial_v1_ckp_0.pkl          trial_v1_reconstruction.png\r\n",
      "trial_v1_ckp_10.pkl         trial_v1_reference.png\r\n",
      "trial_v1_ckp_5.pkl          trial_v1_train.png\r\n"
     ]
    }
   ],
   "source": [
    "! ls /Users/ldalessi/cromwell_for_ML/RESULTS/\n"
   ]
  },
  {
   "cell_type": "code",
   "execution_count": null,
   "metadata": {},
   "outputs": [],
   "source": [
    "\n",
    "\n",
    "HTML(\"<img src=\"+movie_rec_file_local+\"></img>\")"
   ]
  },
  {
   "cell_type": "code",
   "execution_count": null,
   "metadata": {},
   "outputs": [],
   "source": [
    "<div class=\"row\">\n",
    "  <div class=\"column\">\n",
    "    <img src=\"wedding.jpg\">\n",
    "    <img src=\"rocks.jpg\">\n",
    "    <img src=\"falls2.jpg\">\n",
    "    <img src=\"paris.jpg\">\n",
    "    <img src=\"nature.jpg\">\n",
    "    <img src=\"mist.jpg\">\n",
    "    <img src=\"paris.jpg\">\n",
    "  </div>\n",
    "  <div class=\"column\">\n",
    "    <img src=\"underwater.jpg\">\n",
    "    <img src=\"ocean.jpg\">\n",
    "    <img src=\"wedding.jpg\">\n",
    "    <img src=\"mountainskies.jpg\">\n",
    "    <img src=\"rocks.jpg\">\n",
    "    <img src=\"underwater.jpg\">\n",
    "  </div>\n",
    "  <div class=\"column\">\n",
    "    <img src=\"wedding.jpg\">\n",
    "    <img src=\"rocks.jpg\">\n",
    "    <img src=\"falls2.jpg\">\n",
    "    <img src=\"paris.jpg\">\n",
    "    <img src=\"nature.jpg\">\n",
    "    <img src=\"mist.jpg\">\n",
    "    <img src=\"paris.jpg\">\n",
    "  </div>\n",
    "  <div class=\"column\">\n",
    "    <img src=\"underwater.jpg\">\n",
    "    <img src=\"ocean.jpg\">\n",
    "    <img src=\"wedding.jpg\">\n",
    "    <img src=\"mountainskies.jpg\">\n",
    "    <img src=\"rocks.jpg\">\n",
    "    <img src=\"underwater.jpg\">\n",
    "  </div>\n",
    "</div>"
   ]
  },
  {
   "cell_type": "code",
   "execution_count": 2,
   "metadata": {},
   "outputs": [],
   "source": [
    "import os\n",
    "import logging\n",
    "import sys\n",
    "from datetime import datetime\n",
    "\n",
    "#os.environ['CUDA_LAUNCH_BLOCKING'] = \"1\" #for debugging, it decrease performance dramatically"
   ]
  },
  {
   "cell_type": "code",
   "execution_count": 3,
   "metadata": {},
   "outputs": [
    {
     "name": "stdout",
     "output_type": "stream",
     "text": [
      "pyro.__version__  -->  0.4.0\n",
      "torch.__version__ -->  1.2.0\n"
     ]
    }
   ],
   "source": [
    "%matplotlib inline\n",
    "import matplotlib.pyplot as plt\n",
    "\n",
    "from utilities import *\n",
    "from model import * \n",
    "\n",
    "#!pip install moviepy\n",
    "import moviepy.editor as mpy\n",
    "import numpy as np\n",
    "import torch\n",
    "import pyro\n",
    "\n",
    "# Set up pyro environment\n",
    "pyro.clear_param_store()\n",
    "pyro.set_rng_seed(0)\n",
    "\n",
    "# Check versions\n",
    "print(\"pyro.__version__  --> \",pyro.__version__)\n",
    "print(\"torch.__version__ --> \",torch.__version__)\n",
    "assert(pyro.__version__.startswith('0.4'))\n",
    "assert(torch.__version__.startswith('1.2'))"
   ]
  },
  {
   "cell_type": "markdown",
   "metadata": {},
   "source": [
    "### read jason file"
   ]
  },
  {
   "cell_type": "code",
   "execution_count": 4,
   "metadata": {},
   "outputs": [
    {
     "name": "stdout",
     "output_type": "stream",
     "text": [
      "{'cloud': {'__comment': 'cloud parameters', 'VM_image': 'us.gcr.io/broad-dsde-methods/pyro@sha256:4c4745a22762852cf14263c537f645182df3557a1163527a3aaeca7e5da37b4225', 'GPU_type': 'tesla_k80', 'bucket_with_data': 'ld-data-bucket', 'bucket_with_results': 'ld-results-bucket', 'train_dataset': 'fashionmnist_train', 'test_dataset': 'fashionmnist_test'}, 'simulation': {'__comment': 'there are 3 types of runs: scratch resume pretrain', 'name': 'trial_v1', 'type': 'scratch', 'path_to_file': None}, 'architecture': {'__comment': 'parameters specifying the architecture of the model', 'dim_zwhat': 25, 'width_input_image': 28, 'ch_input_image': 1}, 'loss': {'__comment': 'parameter of the observation model', 'mse_sigma': 0.1}, 'optimizer': {'__comment': 'which optimizer to use', 'type': 'adam', 'lr': 0.001, 'betas': [0.9, 0.999], 'eps': 1e-08}, 'training': {'__comment': 'parameter of the observation model', 'EPOCHS': 11, 'TEST_FREQUENCY': 5, 'CHECKPOINT_FREQUENCY': 20, 'batch_size': 64, 'scheduler_is_active': False, 'scheduler_type': 'step_LR', 'scheduler_step_size': 100, 'scheduler_gamma': 0.75}}\n"
     ]
    }
   ],
   "source": [
    "params = load_json_as_dict(\"./input_params.json\")  \n",
    "print(params)"
   ]
  },
  {
   "cell_type": "markdown",
   "metadata": {},
   "source": [
    "### prepare the file names"
   ]
  },
  {
   "cell_type": "code",
   "execution_count": 5,
   "metadata": {},
   "outputs": [],
   "source": [
    "local_machine = True\n",
    "if local_machine:\n",
    "    \n",
    "    base_name = params[\"simulation\"][\"name\"]\n",
    "    \n",
    "    output_dir = \"/Users/ldalessi/cromwell_for_ML/RESULTS/\"\n",
    "    input_dir = \"/Users/ldalessi/cromwell_for_ML/DATA/\"\n",
    "    \n",
    "    train_file = os.path.join(input_dir, str(params[\"cloud\"][\"train_dataset\"])+\".pkl\")\n",
    "    test_file = os.path.join(input_dir, str(params[\"cloud\"][\"test_dataset\"])+\".pkl\")\n",
    "    json_param_file = os.path.join(output_dir, \"input_params.json\")\n",
    "    log_file = os.path.join(output_dir, str(params[\"simulation\"][\"name\"]) + \".log\")\n",
    "    \n",
    "else:\n",
    "    # this is when you use google VM. \n",
    "    # In this case you need to mount the google buckets and get a path to those\n",
    "    raise Exception"
   ]
  },
  {
   "cell_type": "markdown",
   "metadata": {},
   "source": [
    "### start logging some data"
   ]
  },
  {
   "cell_type": "code",
   "execution_count": 6,
   "metadata": {},
   "outputs": [
    {
     "name": "stderr",
     "output_type": "stream",
     "text": [
      "luca_logging: 2020-02-26 14:17:10\n"
     ]
    }
   ],
   "source": [
    "logging.basicConfig(level=logging.INFO,\n",
    "                    format=\"luca_logging: %(message)s\",\n",
    "                    filename=log_file,\n",
    "                    filemode=\"w\")\n",
    "console = logging.StreamHandler()\n",
    "formatter = logging.Formatter(\"luca_logging: %(message)s\")\n",
    "console.setFormatter(formatter)  # Use the same format for stdout.\n",
    "logging.getLogger('').addHandler(console)  # Log to stdout and a file.\n",
    "\n",
    "# Log the start time.\n",
    "logging.info(datetime.now().strftime('%Y-%m-%d %H:%M:%S'))"
   ]
  },
  {
   "cell_type": "code",
   "execution_count": 7,
   "metadata": {},
   "outputs": [
    {
     "name": "stderr",
     "output_type": "stream",
     "text": [
      "luca_logging: saving input json in output directory\n"
     ]
    }
   ],
   "source": [
    "logging.info(\"saving input json in output directory\")\n",
    "save_dict_as_json(params,output_dir+\"input_params.json\")"
   ]
  },
  {
   "cell_type": "markdown",
   "metadata": {},
   "source": [
    "### get the data"
   ]
  },
  {
   "cell_type": "code",
   "execution_count": 8,
   "metadata": {},
   "outputs": [
    {
     "name": "stderr",
     "output_type": "stream",
     "text": [
      "luca_logging: get the data\n"
     ]
    }
   ],
   "source": [
    "logging.info(\"get the data\")\n",
    "train_dataset = DatasetInMemory(train_file,use_cuda=torch.cuda.is_available())\n",
    "test_dataset  = DatasetInMemory(test_file,use_cuda=torch.cuda.is_available())"
   ]
  },
  {
   "cell_type": "code",
   "execution_count": 9,
   "metadata": {},
   "outputs": [
    {
     "name": "stdout",
     "output_type": "stream",
     "text": [
      "Dataset lenght: 2000\n",
      "imgs.shape torch.Size([8, 1, 28, 28])\n",
      "type(imgs) <class 'torch.Tensor'>\n",
      "imgs.device cpu\n",
      "torch.max(imgs) tensor(1.)\n",
      "torch.min(imgs) tensor(0.)\n"
     ]
    },
    {
     "data": {
      "image/png": "[encoded data removed]",
      "text/plain": [
       "<Figure size 432x288 with 1 Axes>"
      ]
     },
     "execution_count": 9,
     "metadata": {},
     "output_type": "execute_result"
    }
   ],
   "source": [
    "train_dataset.check()"
   ]
  },
  {
   "cell_type": "code",
   "execution_count": 10,
   "metadata": {},
   "outputs": [
    {
     "name": "stdout",
     "output_type": "stream",
     "text": [
      "Dataset lenght: 500\n",
      "imgs.shape torch.Size([8, 1, 28, 28])\n",
      "type(imgs) <class 'torch.Tensor'>\n",
      "imgs.device cpu\n",
      "torch.max(imgs) tensor(1.)\n",
      "torch.min(imgs) tensor(0.)\n"
     ]
    },
    {
     "data": {
      "image/png": "[encoded data removed]",
      "text/plain": [
       "<Figure size 432x288 with 1 Axes>"
      ]
     },
     "execution_count": 10,
     "metadata": {},
     "output_type": "execute_result"
    }
   ],
   "source": [
    "test_dataset.check()"
   ]
  },
  {
   "cell_type": "markdown",
   "metadata": {},
   "source": [
    "### Instantiate model and optimizer"
   ]
  },
  {
   "cell_type": "code",
   "execution_count": 11,
   "metadata": {},
   "outputs": [
    {
     "name": "stderr",
     "output_type": "stream",
     "text": [
      "luca_logging: Instantiate model and optimizer\n"
     ]
    }
   ],
   "source": [
    "logging.info(\"Instantiate model and optimizer\")\n",
    "vae = VaeClass(params)\n",
    "optimizer = instantiate_optimizer(vae, params)"
   ]
  },
  {
   "cell_type": "markdown",
   "metadata": {},
   "source": [
    "### There are 3 possible simulation types: scratch, resumed, pretrained"
   ]
  },
  {
   "cell_type": "code",
   "execution_count": 12,
   "metadata": {},
   "outputs": [
    {
     "name": "stderr",
     "output_type": "stream",
     "text": [
      "luca_logging: simulation type = scratch\n"
     ]
    }
   ],
   "source": [
    "logging.info(\"simulation type = \"+str(params[\"simulation\"][\"type\"]))\n",
    "\n",
    "if (params[\"simulation\"][\"type\"] == \"scratch\"):\n",
    "    \n",
    "    epoch_restart = -1\n",
    "    history_dict = {}\n",
    "    min_test_loss = 99999999\n",
    "\n",
    "elif (params[\"simulation\"][\"type\"] == \"resumed\"):\n",
    "        \n",
    "    resumed = load_info(path=params[\"simulation\"][\"path_to_file\"], \n",
    "                        load_epoch=True, \n",
    "                        load_history=True)\n",
    "    epoch_restart = resumed.epoch\n",
    "    history_dict = resumed.history_dict\n",
    "    min_test_loss = min(history_dict[\"test_loss\"])\n",
    "    \n",
    "    load_model_optimizer(path=params[\"simulation\"][\"path_to_file\"], \n",
    "                         model=vae,\n",
    "                         optimizer=optimizer)\n",
    "\n",
    "elif (params[\"simulation\"][\"type\"] == \"pretrained\"):\n",
    "       \n",
    "    epoch_restart = -1\n",
    "    history_dict = {}\n",
    "    min_test_loss = 99999999\n",
    "    \n",
    "    load_model_optimizer(path=params[\"simulation\"][\"path_to_file\"], \n",
    "                         model=vae,\n",
    "                         optimizer=None)\n",
    "    \n",
    "# instantiate the scheduler if necessary    \n",
    "if params[\"training\"][\"scheduler_is_active\"]:\n",
    "    scheduler = instantiate_scheduler(optimizer, params)"
   ]
  },
  {
   "cell_type": "markdown",
   "metadata": {},
   "source": [
    "### Train loop"
   ]
  },
  {
   "cell_type": "code",
   "execution_count": 28,
   "metadata": {},
   "outputs": [
    {
     "name": "stderr",
     "output_type": "stream",
     "text": [
      "luca_logging: start training -> 2020-02-26 14:25:54\n",
      "luca_logging: Train [epoch    0] loss=3.109162, kl=0.674955, nll=2.434207\n",
      "luca_logging: Test  [epoch    0] loss=3.069086, kl=0.662487, nll=2.406599\n",
      "luca_logging: saved files -> /Users/ldalessi/cromwell_for_ML/RESULTS/trial_v1_ckp_0.pkl  /Users/ldalessi/cromwell_for_ML/RESULTS/trial_v1_history_0.pkl\n",
      "luca_logging: Train [epoch    1] loss=3.072355, kl=0.674536, nll=2.397819\n",
      "luca_logging: Train [epoch    2] loss=2.991305, kl=0.670111, nll=2.321194\n",
      "luca_logging: Train [epoch    3] loss=2.963506, kl=0.671114, nll=2.292392\n",
      "luca_logging: Train [epoch    4] loss=2.908551, kl=0.672146, nll=2.236406\n",
      "luca_logging: Train [epoch    5] loss=2.881925, kl=0.663698, nll=2.218228\n",
      "luca_logging: Test  [epoch    5] loss=2.904815, kl=0.680159, nll=2.224656\n",
      "luca_logging: saved files -> /Users/ldalessi/cromwell_for_ML/RESULTS/trial_v1_ckp_5.pkl  /Users/ldalessi/cromwell_for_ML/RESULTS/trial_v1_history_5.pkl\n",
      "luca_logging: Train [epoch    6] loss=2.854704, kl=0.669619, nll=2.185085\n",
      "luca_logging: Train [epoch    7] loss=2.806314, kl=0.677766, nll=2.128548\n",
      "luca_logging: Train [epoch    8] loss=2.775934, kl=0.672988, nll=2.102946\n",
      "luca_logging: Train [epoch    9] loss=2.772518, kl=0.680965, nll=2.091554\n",
      "luca_logging: Train [epoch   10] loss=2.756039, kl=0.677959, nll=2.078080\n",
      "luca_logging: Test  [epoch   10] loss=2.941102, kl=0.657242, nll=2.283861\n",
      "luca_logging: saved files -> /Users/ldalessi/cromwell_for_ML/RESULTS/trial_v1_ckp_10.pkl  /Users/ldalessi/cromwell_for_ML/RESULTS/trial_v1_history_10.pkl\n",
      "luca_logging: end training -> 2020-02-26 14:26:47\n"
     ]
    }
   ],
   "source": [
    "TEST_FREQUENCY = params[\"training\"][\"TEST_FREQUENCY\"]\n",
    "CHECKPOINT_FREQUENCY = params[\"training\"][\"CHECKPOINT_FREQUENCY\"]\n",
    "NUM_EPOCHS = params[\"training\"][\"EPOCHS\"]\n",
    "BATCH_SIZE = params[\"training\"][\"batch_size\"]\n",
    "\n",
    "logging.info(\"start training -> \"+datetime.now().strftime('%Y-%m-%d %H:%M:%S')) \n",
    "try:\n",
    "    for delta_epoch in range(1,NUM_EPOCHS+1):\n",
    "        epoch = delta_epoch+epoch_restart\n",
    "        vae.train()   \n",
    "        \n",
    "        #with torch.autograd.set_detect_anomaly(True):\n",
    "        with torch.autograd.set_detect_anomaly(False):\n",
    "            train_metrics = train_one_epoch(vae, \n",
    "                                            train_dataset, \n",
    "                                            optimizer, \n",
    "                                            BATCH_SIZE, \n",
    "                                            verbose=False, \n",
    "                                            weight_clipper=None)\n",
    "            s = pretty_print_metrics(epoch, train_metrics, is_train=True)\n",
    "            logging.info(s)\n",
    "                \n",
    "            \n",
    "            history_dict = add_named_tuple_to_dictionary(namedtuple=train_metrics, \n",
    "                                                         dictionary=history_dict,\n",
    "                                                         key_prefix=\"train_\")\n",
    "            \n",
    "        if params[\"training\"][\"scheduler_is_active\"]:\n",
    "            scheduler.step(epoch=epoch)\n",
    "        \n",
    "        if(epoch % TEST_FREQUENCY == 0):\n",
    "            vae.eval()\n",
    "            test_metrics = train_one_epoch(vae, \n",
    "                                           test_dataset, \n",
    "                                           optimizer, \n",
    "                                           BATCH_SIZE, \n",
    "                                           verbose=False, \n",
    "                                           weight_clipper=None)\n",
    "            \n",
    "            s = pretty_print_metrics(epoch, test_metrics, is_train=False)\n",
    "            logging.info(s)\n",
    "                    \n",
    "            history_dict = add_named_tuple_to_dictionary(namedtuple=test_metrics, \n",
    "                                                         dictionary=history_dict,\n",
    "                                                         key_prefix=\"test_\")\n",
    "            \n",
    "            test_loss = test_metrics[\"loss\"]\n",
    "            min_test_loss = min(min_test_loss, test_loss)\n",
    "                \n",
    "            #if((test_loss == min_test_loss) or ((epoch % CHECKPOINT_FREQUENCY) == 0)): \n",
    "            if((test_loss == min_test_loss) or ((epoch % TEST_FREQUENCY) == 0)):\n",
    "                checkpoint_file = os.path.join(output_dir, base_name+\"_ckp_\"+str(epoch)+\".pkl\")\n",
    "                history_file = os.path.join(output_dir, base_name+\"_history_\"+str(epoch)+\".pkl\")\n",
    "                \n",
    "                save_everything(model=vae, \n",
    "                                optimizer=optimizer, \n",
    "                                history_dict=history_dict, \n",
    "                                epoch=epoch, \n",
    "                                params_dict=params, \n",
    "                                path=checkpoint_file)\n",
    "                \n",
    "                save_dict_as_json(history_dict, path=history_file)\n",
    "                logging.info(\"saved files -> \"+checkpoint_file+\"  \"+history_file)\n",
    "                \n",
    "    logging.info(\"end training -> \"+datetime.now().strftime('%Y-%m-%d %H:%M:%S')) \n",
    "\n",
    "except KeyboardInterrupt:\n",
    "    logging.info(\"Keyboard interrupt.  Terminated without saving.\\n\")"
   ]
  },
  {
   "cell_type": "markdown",
   "metadata": {},
   "source": [
    "# Check the results"
   ]
  },
  {
   "cell_type": "code",
   "execution_count": 14,
   "metadata": {},
   "outputs": [
    {
     "data": {
      "text/plain": [
       "dict_keys(['train_loss', 'train_kl', 'train_nll', 'test_loss', 'test_kl', 'test_nll'])"
      ]
     },
     "execution_count": 14,
     "metadata": {},
     "output_type": "execute_result"
    }
   ],
   "source": [
    "history_dict.keys()"
   ]
  },
  {
   "cell_type": "code",
   "execution_count": 15,
   "metadata": {},
   "outputs": [
    {
     "name": "stdout",
     "output_type": "stream",
     "text": [
      "train_loss  --> [3.357602470397949, 3.2631056270599363, 3.2007859954833986]\n",
      "train_kl  --> [0.6795844073295594, 0.676542576789856, 0.6702652792930603]\n",
      "train_nll  --> [2.678018049240112, 2.586563066482544, 2.5305207500457763]\n",
      "test_loss  --> [7.253728515625, 3.6229485778808592, 3.1419517517089846]\n",
      "test_kl  --> [0.424997802734375, 0.7003960494995117, 0.6584096908569336]\n",
      "test_nll  --> [6.828730529785156, 2.922552520751953, 2.4835419921875]\n"
     ]
    }
   ],
   "source": [
    "for k,v in history_dict.items():\n",
    "    print(k,\" -->\", history_dict[k][-3:])"
   ]
  },
  {
   "cell_type": "code",
   "execution_count": 16,
   "metadata": {
    "scrolled": true
   },
   "outputs": [
    {
     "data": {
      "image/png": "[encoded data removed]",
      "text/plain": [
       "<Figure size 432x288 with 1 Axes>"
      ]
     },
     "metadata": {
      "needs_background": "light"
     },
     "output_type": "display_data"
    }
   ],
   "source": [
    "#plt.yscale('log')\n",
    "y_shift=0\n",
    "x_shift=0\n",
    "sign=1\n",
    "plt.plot(np.arange(x_shift, x_shift+len(history_dict[\"train_loss\"])), sign*np.array(history_dict[\"train_loss\"])+y_shift,'-')\n",
    "plt.plot(np.arange(x_shift, x_shift+len(history_dict[\"test_loss\"])*TEST_FREQUENCY,TEST_FREQUENCY), sign*np.array(history_dict[\"test_loss\"])+y_shift, '.--')\n",
    "plt.xlabel('epoch')\n",
    "plt.ylabel('LOSS = - ELBO')\n",
    "plt.title('Training procedure')\n",
    "#plt.ylim(ymax=2)\n",
    "plt.grid(True)\n",
    "plt.legend(['train', 'test_clean', 'test_noisy'])\n",
    "#plt.show()\n",
    "\n",
    "tmp_file = os.path.join(output_dir, base_name+\"_train.png\")\n",
    "plt.savefig(tmp_file)"
   ]
  },
  {
   "cell_type": "code",
   "execution_count": 17,
   "metadata": {},
   "outputs": [
    {
     "data": {
      "image/png": "[encoded data removed]",
      "text/plain": [
       "<Figure size 432x288 with 1 Axes>"
      ]
     },
     "metadata": {
      "needs_background": "light"
     },
     "output_type": "display_data"
    }
   ],
   "source": [
    "# Plot of KL vs evidence\n",
    "fontsize=20\n",
    "labelsize=20\n",
    "\n",
    "how_many = 2000\n",
    "scale= 1\n",
    "N = len(history_dict[\"train_kl\"][-how_many :])\n",
    "colors = np.arange(0.0,N,1.0)/N\n",
    "\n",
    "#plt.yscale('log')\n",
    "#plt.xlim(xmin=1.0, xmax=1.5)\n",
    "plt.xlabel('REC',fontsize=fontsize)\n",
    "plt.ylabel('REG',fontsize=fontsize)\n",
    "plt.tick_params(axis='both', which='major', labelsize=labelsize)\n",
    "plt.scatter(history_dict[\"train_nll\"][-how_many :], history_dict[\"train_kl\"][-how_many :],c=colors)\n",
    "plt.plot(history_dict[\"train_nll\"][-how_many :], history_dict[\"train_kl\"][-how_many :], '-')\n",
    "plt.grid()\n",
    "#plt.xlim(xmax=2.5)\n",
    "\n",
    "\n",
    "tmp_file = os.path.join(output_dir, base_name+\"_kl_trajectory.png\")\n",
    "plt.savefig(tmp_file) "
   ]
  },
  {
   "cell_type": "markdown",
   "metadata": {},
   "source": [
    "### Check reconstruction"
   ]
  },
  {
   "cell_type": "code",
   "execution_count": 18,
   "metadata": {},
   "outputs": [
    {
     "data": {
      "image/png": "[encoded data removed]",
      "text/plain": [
       "<Figure size 432x288 with 1 Axes>"
      ]
     },
     "metadata": {},
     "output_type": "display_data"
    },
    {
     "data": {
      "image/png": "[encoded data removed]",
      "text/plain": [
       "<Figure size 432x288 with 1 Axes>"
      ]
     },
     "metadata": {},
     "output_type": "display_data"
    }
   ],
   "source": [
    "tmp_list = [291, 413, 133, 148, 1,2,3,4,5,6,7,8,9]\n",
    "reference_imgs, labels=test_dataset.load(batch_size=9, indices=tmp_list)\n",
    "metric, inference = vae.reconstruct_img(reference_imgs)\n",
    "\n",
    "reconstruction_file = os.path.join(output_dir, base_name+\"_reconstruction.png\")\n",
    "reference_file = os.path.join(output_dir, base_name+\"_reference.png\")\n",
    "\n",
    "imgs_ref = show_batch(reference_imgs[:],n_col=3,n_padding=4,title=\"REFERENCE\")\n",
    "imgs_ref.savefig(reference_file)\n",
    "\n",
    "imgs_rec = show_batch(inference.reconstruction, n_col=3,n_padding=4, title=\"REC_IMG\")\n",
    "imgs_rec.savefig(reconstruction_file)\n",
    "\n",
    "display(imgs_ref, imgs_rec)"
   ]
  },
  {
   "cell_type": "markdown",
   "metadata": {},
   "source": [
    "# MAKE MOVIE"
   ]
  },
  {
   "cell_type": "code",
   "execution_count": 19,
   "metadata": {},
   "outputs": [
    {
     "data": {
      "image/png": "[encoded data removed]",
      "text/plain": [
       "<Figure size 432x288 with 1 Axes>"
      ]
     },
     "metadata": {},
     "output_type": "display_data"
    }
   ],
   "source": [
    "epoch=\"xxx\"\n",
    "tmp = show_batch(inference.reconstruction[:9],n_col=3,n_padding=4,title=\"EPOCH = \"+str(epoch))\n",
    "display(tmp)"
   ]
  },
  {
   "cell_type": "markdown",
   "metadata": {},
   "source": [
    "# actual loop"
   ]
  },
  {
   "cell_type": "code",
   "execution_count": 20,
   "metadata": {},
   "outputs": [
    {
     "name": "stdout",
     "output_type": "stream",
     "text": [
      "['/Users/ldalessi/cromwell_for_ML/RESULTS/trial_v1_0000_rec.png', '/Users/ldalessi/cromwell_for_ML/RESULTS/trial_v1_0005_rec.png', '/Users/ldalessi/cromwell_for_ML/RESULTS/trial_v1_0010_rec.png']\n"
     ]
    }
   ],
   "source": [
    "rec_filenames = []\n",
    "\n",
    "for epoch in range(0,30,TEST_FREQUENCY):\n",
    "    if(epoch<10):\n",
    "        label =\"_000\"+str(epoch)\n",
    "    elif(epoch<100):\n",
    "        label = \"_00\"+str(epoch)\n",
    "    elif(epoch<1000):\n",
    "        label = \"_0\"+str(epoch)\n",
    "    elif(epoch<10000):\n",
    "        label = \"_\"+str(epoch)\n",
    "    else:\n",
    "        raise Exception\n",
    "    \n",
    "    try:\n",
    "        checkpoint_file = os.path.join(output_dir, base_name+\"_ckp_\"+str(epoch)+\".pkl\")\n",
    "        _ = load_model_optimizer(path=checkpoint_file, model=vae, optimizer=None)\n",
    "        metric, inference = vae.reconstruct_img(reference_imgs)\n",
    "        tmp_fig = show_batch(inference.reconstruction[:8],n_col=4,n_padding=4,title=\"EPOCH = \"+str(epoch))\n",
    "        tmp_rec_file = os.path.join(output_dir, base_name+label+\"_rec.png\")\n",
    "        rec_filenames.append(tmp_rec_file)\n",
    "        tmp_fig.savefig(tmp_rec_file, bbox_inches='tight') \n",
    "    except:\n",
    "        pass\n",
    "    \n",
    "print(rec_filenames)"
   ]
  },
  {
   "cell_type": "markdown",
   "metadata": {},
   "source": [
    "## Check individual images"
   ]
  },
  {
   "cell_type": "code",
   "execution_count": 21,
   "metadata": {},
   "outputs": [],
   "source": [
    "def show_frame_rec(n):\n",
    "    tmp = Image(filename=rec_filenames[n])\n",
    "    return display(tmp)\n",
    "\n",
    "def show_frame_all(n):\n",
    "    c = Image(filename=rec_filenames[n])\n",
    "    return display(c)"
   ]
  },
  {
   "cell_type": "code",
   "execution_count": 26,
   "metadata": {},
   "outputs": [
    {
     "name": "stderr",
     "output_type": "stream",
     "text": [
      "                                                  "
     ]
    },
    {
     "name": "stdout",
     "output_type": "stream",
     "text": [
      "MoviePy - Building file ./trial_v1_movie_rec.gif with imageio.\n",
      "MoviePy - Building file /Users/ldalessi/cromwell_for_ML/RESULTS/trial_v1_movie_rec.gif with imageio.\n"
     ]
    },
    {
     "name": "stderr",
     "output_type": "stream",
     "text": [
      "\r"
     ]
    }
   ],
   "source": [
    "# make a gif file\n",
    "#name_movie = \"baseline_new_loss_v2.gif\"\n",
    "movie_rec_file_local = os.path.join(\"./\", base_name+\"_movie_rec.gif\")\n",
    "movie_rec_file_absolute = os.path.join(output_dir, base_name+\"_movie_rec.gif\")\n",
    "\n",
    "frame_per_second = 2\n",
    "im = mpy.ImageSequenceClip(rec_filenames, fps=frame_per_second)\n",
    "im.write_gif(movie_rec_file_local, fps=frame_per_second)\n",
    "im.write_gif(movie_rec_file_absolute, fps=frame_per_second)"
   ]
  },
  {
   "cell_type": "code",
   "execution_count": 27,
   "metadata": {},
   "outputs": [
    {
     "data": {
      "text/html": [
       "<img src=./trial_v1_movie_rec.gif></img>"
      ],
      "text/plain": [
       "<IPython.core.display.HTML object>"
      ]
     },
     "execution_count": 27,
     "metadata": {},
     "output_type": "execute_result"
    }
   ],
   "source": [
    "HTML(\"<img src=\"+movie_rec_file_local+\"></img>\")"
   ]
  },
  {
   "cell_type": "code",
   "execution_count": 24,
   "metadata": {},
   "outputs": [
    {
     "data": {
      "image/png": "[encoded data removed]",
      "text/plain": [
       "<IPython.core.display.Image object>"
      ]
     },
     "metadata": {},
     "output_type": "display_data"
    }
   ],
   "source": [
    "show_frame_rec(0)"
   ]
  },
  {
   "cell_type": "code",
   "execution_count": 25,
   "metadata": {},
   "outputs": [
    {
     "data": {
      "image/png": "[encoded data removed]",
      "text/plain": [
       "<Figure size 432x288 with 1 Axes>"
      ]
     },
     "execution_count": 25,
     "metadata": {},
     "output_type": "execute_result"
    }
   ],
   "source": [
    "show_batch(reference_imgs[:8],n_col=4,n_padding=4,title=\"REFERENCE\")"
   ]
  }
 ],
 "metadata": {
  "kernelspec": {
   "display_name": "Python 3",
   "language": "python",
   "name": "python3"
  },
  "language_info": {
   "codemirror_mode": {
    "name": "ipython",
    "version": 3
   },
   "file_extension": ".py",
   "mimetype": "text/x-python",
   "name": "python",
   "nbconvert_exporter": "python",
   "pygments_lexer": "ipython3",
   "version": "3.7.3"
  }
 },
 "nbformat": 4,
 "nbformat_minor": 4
}
